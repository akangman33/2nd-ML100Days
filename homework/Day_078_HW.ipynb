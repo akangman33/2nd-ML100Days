{
 "cells": [
  {
   "cell_type": "markdown",
   "metadata": {},
   "source": [
    "## Work\n",
    "1. 請嘗試將 preproc_x 替換成以每筆資料的 min/max 進行標準化至 -1 ~ 1 間，再進行訓練\n",
    "2. 請嘗試將 mlp 疊更深 (e.g 5~10 層)，進行訓練後觀察 learning curve 的走勢\n",
    "3. (optional) 請改用 GPU 進行訓練 (如果你有 GPU 的話)，比較使用 CPU 與 GPU 的訓練速度"
   ]
  },
  {
   "cell_type": "code",
   "execution_count": 36,
   "metadata": {},
   "outputs": [
    {
     "data": {
      "text/plain": [
       "'\\nYour code here (optional)\\n確認硬體資源\\n'"
      ]
     },
     "execution_count": 36,
     "metadata": {},
     "output_type": "execute_result"
    }
   ],
   "source": [
    "\n",
    "\"\"\"\n",
    "Your code here (optional)\n",
    "確認硬體資源\n",
    "\"\"\"\n"
   ]
  },
  {
   "cell_type": "code",
   "execution_count": 37,
   "metadata": {},
   "outputs": [],
   "source": [
    "import os\n",
    "import keras\n",
    "\n",
    "# 請嘗試設定 GPU：os.environ   or\n",
    "# 將 GPU 設定為 \"無\"\n",
    "os.environ[\"CUDA_VISIBLE_DEVICES\"] = \"\""
   ]
  },
  {
   "cell_type": "code",
   "execution_count": 38,
   "metadata": {},
   "outputs": [],
   "source": [
    "train, test = keras.datasets.cifar10.load_data()"
   ]
  },
  {
   "cell_type": "code",
   "execution_count": 39,
   "metadata": {},
   "outputs": [],
   "source": [
    "## 資料前處理\n",
    "\"\"\"\n",
    "Your code here\n",
    "\"\"\"\n",
    "def preproc_y(y, num_classes=10):\n",
    "    if y.shape[-1] == 1:\n",
    "        y = keras.utils.to_categorical(y, num_classes)\n",
    "    return y    \n",
    "def preproc_x(x, flatten=True):\n",
    "    x = x / 255.\n",
    "    if flatten:\n",
    "        x = x.reshape((len(x), -1))\n",
    "    return x"
   ]
  },
  {
   "cell_type": "code",
   "execution_count": 40,
   "metadata": {},
   "outputs": [],
   "source": [
    "\n",
    "\n",
    "x_train, y_train = train\n",
    "x_test, y_test = test\n",
    "\n",
    "# Preproc the inputs\n",
    "x_train = preproc_x(x_train)\n",
    "x_test = preproc_x(x_test)\n",
    "\n",
    "# Preprc the outputs\n",
    "y_train = preproc_y(y_train)\n",
    "y_test = preproc_y(y_test)"
   ]
  },
  {
   "cell_type": "code",
   "execution_count": 51,
   "metadata": {},
   "outputs": [
    {
     "name": "stdout",
     "output_type": "stream",
     "text": [
      "_________________________________________________________________\n",
      "Layer (type)                 Output Shape              Param #   \n",
      "=================================================================\n",
      "input_7 (InputLayer)         (None, 3072)              0         \n",
      "_________________________________________________________________\n",
      "hidden_layer1 (Dense)        (None, 512)               1573376   \n",
      "_________________________________________________________________\n",
      "hidden_layer2 (Dense)        (None, 256)               131328    \n",
      "_________________________________________________________________\n",
      "hidden_layer3 (Dense)        (None, 128)               32896     \n",
      "_________________________________________________________________\n",
      "output (Dense)               (None, 10)                1290      \n",
      "=================================================================\n",
      "Total params: 1,738,890\n",
      "Trainable params: 1,738,890\n",
      "Non-trainable params: 0\n",
      "_________________________________________________________________\n"
     ]
    }
   ],
   "source": [
    "\"\"\"Code Here\n",
    "建立你的神經網路\n",
    "\"\"\"\n",
    "def build_mlp(input_shape, output_units=10, num_neurons=[512, 256, 128]):\n",
    "    input_layer = keras.layers.Input(input_shape)\n",
    "    \n",
    "    for i, n_units in enumerate(num_neurons):\n",
    "        if i == 0:\n",
    "            x = keras.layers.Dense(units=n_units, activation=\"relu\", name=\"hidden_layer\"+str(i+1))(input_layer)\n",
    "        else:\n",
    "            x = keras.layers.Dense(units=n_units, activation=\"relu\", name=\"hidden_layer\"+str(i+1))(x)\n",
    "\n",
    "    \n",
    "    out = keras.layers.Dense(units=output_units, activation=\"softmax\", name=\"output\")(x)\n",
    "    \n",
    "    model = keras.models.Model(inputs=[input_layer], outputs=[out])\n",
    "    return model\n",
    "model = build_mlp(input_shape=x_train.shape[1:])\n",
    "model.summary()"
   ]
  },
  {
   "cell_type": "code",
   "execution_count": 52,
   "metadata": {},
   "outputs": [],
   "source": [
    "## 超參數設定\n",
    "LEARNING_RATE = 0.001\n",
    "EPOCHS = 100\n",
    "BATCH_SIZE = 256"
   ]
  },
  {
   "cell_type": "code",
   "execution_count": 53,
   "metadata": {},
   "outputs": [],
   "source": [
    "optimizer = keras.optimizers.Adam(lr=LEARNING_RATE)\n",
    "model.compile(loss=\"categorical_crossentropy\", metrics=[\"accuracy\"], optimizer=optimizer)"
   ]
  },
  {
   "cell_type": "code",
   "execution_count": 54,
   "metadata": {},
   "outputs": [
    {
     "name": "stdout",
     "output_type": "stream",
     "text": [
      "Train on 50000 samples, validate on 10000 samples\n",
      "Epoch 1/100\n",
      "50000/50000 [==============================] - 10s 209us/step - loss: 1.9373 - acc: 0.3002 - val_loss: 1.7565 - val_acc: 0.3709\n",
      "Epoch 2/100\n",
      "50000/50000 [==============================] - 11s 213us/step - loss: 1.7002 - acc: 0.3910 - val_loss: 1.6401 - val_acc: 0.4155\n",
      "Epoch 3/100\n",
      "50000/50000 [==============================] - 11s 223us/step - loss: 1.6209 - acc: 0.4206 - val_loss: 1.6029 - val_acc: 0.4429\n",
      "Epoch 4/100\n",
      "50000/50000 [==============================] - 10s 199us/step - loss: 1.5540 - acc: 0.4472 - val_loss: 1.5051 - val_acc: 0.4722\n",
      "Epoch 5/100\n",
      "50000/50000 [==============================] - 10s 195us/step - loss: 1.4973 - acc: 0.4649 - val_loss: 1.5215 - val_acc: 0.4595\n",
      "Epoch 6/100\n",
      "50000/50000 [==============================] - 10s 192us/step - loss: 1.4631 - acc: 0.4779 - val_loss: 1.4910 - val_acc: 0.4730\n",
      "Epoch 7/100\n",
      "50000/50000 [==============================] - 9s 189us/step - loss: 1.4297 - acc: 0.4911 - val_loss: 1.4718 - val_acc: 0.4763\n",
      "Epoch 8/100\n",
      "50000/50000 [==============================] - 10s 195us/step - loss: 1.4050 - acc: 0.4990 - val_loss: 1.4619 - val_acc: 0.4837\n",
      "Epoch 9/100\n",
      "50000/50000 [==============================] - 10s 205us/step - loss: 1.3771 - acc: 0.5089 - val_loss: 1.4329 - val_acc: 0.4921\n",
      "Epoch 10/100\n",
      "50000/50000 [==============================] - 10s 191us/step - loss: 1.3476 - acc: 0.5205 - val_loss: 1.4261 - val_acc: 0.4920\n",
      "Epoch 11/100\n",
      "50000/50000 [==============================] - 10s 197us/step - loss: 1.3252 - acc: 0.5265 - val_loss: 1.4177 - val_acc: 0.4934\n",
      "Epoch 12/100\n",
      "50000/50000 [==============================] - 10s 200us/step - loss: 1.2991 - acc: 0.5359 - val_loss: 1.4091 - val_acc: 0.4988\n",
      "Epoch 13/100\n",
      "50000/50000 [==============================] - 8s 169us/step - loss: 1.2711 - acc: 0.5465 - val_loss: 1.3895 - val_acc: 0.5104\n",
      "Epoch 14/100\n",
      "50000/50000 [==============================] - 8s 167us/step - loss: 1.2429 - acc: 0.5575 - val_loss: 1.4411 - val_acc: 0.4889\n",
      "Epoch 15/100\n",
      "50000/50000 [==============================] - 8s 167us/step - loss: 1.2241 - acc: 0.5664 - val_loss: 1.3915 - val_acc: 0.5097\n",
      "Epoch 16/100\n",
      "50000/50000 [==============================] - 8s 166us/step - loss: 1.2077 - acc: 0.5699 - val_loss: 1.3765 - val_acc: 0.5204\n",
      "Epoch 17/100\n",
      "50000/50000 [==============================] - 8s 167us/step - loss: 1.1780 - acc: 0.5812 - val_loss: 1.3849 - val_acc: 0.5095\n",
      "Epoch 18/100\n",
      "50000/50000 [==============================] - 8s 167us/step - loss: 1.1569 - acc: 0.5898 - val_loss: 1.4117 - val_acc: 0.5002\n",
      "Epoch 19/100\n",
      "50000/50000 [==============================] - 8s 167us/step - loss: 1.1426 - acc: 0.5935 - val_loss: 1.3993 - val_acc: 0.5193\n",
      "Epoch 20/100\n",
      "50000/50000 [==============================] - 8s 169us/step - loss: 1.1168 - acc: 0.6022 - val_loss: 1.3596 - val_acc: 0.5268\n",
      "Epoch 21/100\n",
      "50000/50000 [==============================] - 8s 169us/step - loss: 1.0975 - acc: 0.6109 - val_loss: 1.3850 - val_acc: 0.5206\n",
      "Epoch 22/100\n",
      "50000/50000 [==============================] - 8s 167us/step - loss: 1.0850 - acc: 0.6135 - val_loss: 1.3983 - val_acc: 0.5170\n",
      "Epoch 23/100\n",
      "50000/50000 [==============================] - 8s 168us/step - loss: 1.0553 - acc: 0.6247 - val_loss: 1.3689 - val_acc: 0.5329\n",
      "Epoch 24/100\n",
      "50000/50000 [==============================] - 8s 169us/step - loss: 1.0285 - acc: 0.6346 - val_loss: 1.4080 - val_acc: 0.5195\n",
      "Epoch 25/100\n",
      "50000/50000 [==============================] - 8s 168us/step - loss: 1.0255 - acc: 0.6320 - val_loss: 1.3999 - val_acc: 0.5245\n",
      "Epoch 26/100\n",
      "50000/50000 [==============================] - 8s 168us/step - loss: 1.0001 - acc: 0.6436 - val_loss: 1.4594 - val_acc: 0.5227\n",
      "Epoch 27/100\n",
      "50000/50000 [==============================] - 9s 171us/step - loss: 0.9985 - acc: 0.6449 - val_loss: 1.4463 - val_acc: 0.5186\n",
      "Epoch 28/100\n",
      "50000/50000 [==============================] - 8s 166us/step - loss: 0.9671 - acc: 0.6553 - val_loss: 1.4159 - val_acc: 0.5309\n",
      "Epoch 29/100\n",
      "50000/50000 [==============================] - 8s 167us/step - loss: 0.9575 - acc: 0.6555 - val_loss: 1.4716 - val_acc: 0.5180\n",
      "Epoch 30/100\n",
      "50000/50000 [==============================] - 8s 168us/step - loss: 0.9317 - acc: 0.6684 - val_loss: 1.4408 - val_acc: 0.5224\n",
      "Epoch 31/100\n",
      "50000/50000 [==============================] - 8s 167us/step - loss: 0.9140 - acc: 0.6701 - val_loss: 1.4501 - val_acc: 0.5283\n",
      "Epoch 32/100\n",
      "50000/50000 [==============================] - 8s 167us/step - loss: 0.8956 - acc: 0.6795 - val_loss: 1.4755 - val_acc: 0.5209\n",
      "Epoch 33/100\n",
      "50000/50000 [==============================] - 8s 168us/step - loss: 0.8904 - acc: 0.6807 - val_loss: 1.4816 - val_acc: 0.5225\n",
      "Epoch 34/100\n",
      "50000/50000 [==============================] - 8s 167us/step - loss: 0.8663 - acc: 0.6897 - val_loss: 1.4770 - val_acc: 0.5275\n",
      "Epoch 35/100\n",
      "50000/50000 [==============================] - 8s 169us/step - loss: 0.8398 - acc: 0.7003 - val_loss: 1.5606 - val_acc: 0.5148\n",
      "Epoch 36/100\n",
      "50000/50000 [==============================] - 8s 169us/step - loss: 0.8302 - acc: 0.7022 - val_loss: 1.5319 - val_acc: 0.5184\n",
      "Epoch 37/100\n",
      "50000/50000 [==============================] - 8s 168us/step - loss: 0.8249 - acc: 0.7059 - val_loss: 1.5278 - val_acc: 0.5309\n",
      "Epoch 38/100\n",
      "50000/50000 [==============================] - 8s 167us/step - loss: 0.8011 - acc: 0.7128 - val_loss: 1.6485 - val_acc: 0.5028\n",
      "Epoch 39/100\n",
      "50000/50000 [==============================] - 8s 167us/step - loss: 0.7809 - acc: 0.7199 - val_loss: 1.6065 - val_acc: 0.5148\n",
      "Epoch 40/100\n",
      "50000/50000 [==============================] - 8s 167us/step - loss: 0.7667 - acc: 0.7254 - val_loss: 1.6423 - val_acc: 0.5156\n",
      "Epoch 41/100\n",
      "50000/50000 [==============================] - 8s 169us/step - loss: 0.7615 - acc: 0.7264 - val_loss: 1.5983 - val_acc: 0.5181\n",
      "Epoch 42/100\n",
      "50000/50000 [==============================] - 8s 167us/step - loss: 0.7373 - acc: 0.7369 - val_loss: 1.6466 - val_acc: 0.5174\n",
      "Epoch 43/100\n",
      "50000/50000 [==============================] - 8s 169us/step - loss: 0.7304 - acc: 0.7380 - val_loss: 1.7065 - val_acc: 0.5153\n",
      "Epoch 44/100\n",
      "50000/50000 [==============================] - 8s 168us/step - loss: 0.7099 - acc: 0.7468 - val_loss: 1.6561 - val_acc: 0.5230\n",
      "Epoch 45/100\n",
      "50000/50000 [==============================] - 8s 167us/step - loss: 0.6838 - acc: 0.7559 - val_loss: 1.7127 - val_acc: 0.5104\n",
      "Epoch 46/100\n",
      "50000/50000 [==============================] - 8s 168us/step - loss: 0.6993 - acc: 0.7493 - val_loss: 1.7424 - val_acc: 0.5118\n",
      "Epoch 47/100\n",
      "50000/50000 [==============================] - 8s 168us/step - loss: 0.6586 - acc: 0.7640 - val_loss: 1.7460 - val_acc: 0.5229\n",
      "Epoch 48/100\n",
      "50000/50000 [==============================] - 9s 176us/step - loss: 0.6553 - acc: 0.7648 - val_loss: 1.7494 - val_acc: 0.5214\n",
      "Epoch 49/100\n",
      "50000/50000 [==============================] - 10s 202us/step - loss: 0.6450 - acc: 0.7690 - val_loss: 1.7932 - val_acc: 0.5118\n",
      "Epoch 50/100\n",
      "50000/50000 [==============================] - 9s 172us/step - loss: 0.6275 - acc: 0.7755 - val_loss: 1.8553 - val_acc: 0.5099\n",
      "Epoch 51/100\n",
      "50000/50000 [==============================] - 8s 168us/step - loss: 0.6214 - acc: 0.7782 - val_loss: 1.9112 - val_acc: 0.5102\n",
      "Epoch 52/100\n",
      "50000/50000 [==============================] - 8s 167us/step - loss: 0.6130 - acc: 0.7815 - val_loss: 1.8756 - val_acc: 0.5148\n",
      "Epoch 53/100\n",
      "50000/50000 [==============================] - 8s 167us/step - loss: 0.6020 - acc: 0.7856 - val_loss: 1.8930 - val_acc: 0.5143\n",
      "Epoch 54/100\n",
      "50000/50000 [==============================] - 8s 167us/step - loss: 0.5985 - acc: 0.7861 - val_loss: 1.9140 - val_acc: 0.5180\n",
      "Epoch 55/100\n",
      "50000/50000 [==============================] - 8s 167us/step - loss: 0.5897 - acc: 0.7880 - val_loss: 1.9886 - val_acc: 0.5111\n",
      "Epoch 56/100\n",
      "50000/50000 [==============================] - 8s 166us/step - loss: 0.5672 - acc: 0.7978 - val_loss: 1.9529 - val_acc: 0.5156\n",
      "Epoch 57/100\n",
      "50000/50000 [==============================] - 9s 178us/step - loss: 0.5399 - acc: 0.8077 - val_loss: 2.0146 - val_acc: 0.5080\n",
      "Epoch 58/100\n",
      "50000/50000 [==============================] - 10s 199us/step - loss: 0.5412 - acc: 0.8059 - val_loss: 2.0359 - val_acc: 0.5052\n",
      "Epoch 59/100\n"
     ]
    },
    {
     "name": "stdout",
     "output_type": "stream",
     "text": [
      "50000/50000 [==============================] - 10s 206us/step - loss: 0.5566 - acc: 0.7999 - val_loss: 2.0582 - val_acc: 0.5131\n",
      "Epoch 60/100\n",
      "50000/50000 [==============================] - 10s 197us/step - loss: 0.5310 - acc: 0.8104 - val_loss: 2.1138 - val_acc: 0.5119\n",
      "Epoch 61/100\n",
      "50000/50000 [==============================] - 8s 168us/step - loss: 0.5139 - acc: 0.8139 - val_loss: 2.0978 - val_acc: 0.5082\n",
      "Epoch 62/100\n",
      "50000/50000 [==============================] - 9s 182us/step - loss: 0.4995 - acc: 0.8226 - val_loss: 2.1321 - val_acc: 0.5027\n",
      "Epoch 63/100\n",
      "50000/50000 [==============================] - 8s 169us/step - loss: 0.4891 - acc: 0.8271 - val_loss: 2.1540 - val_acc: 0.5062\n",
      "Epoch 64/100\n",
      "50000/50000 [==============================] - 8s 167us/step - loss: 0.4753 - acc: 0.8300 - val_loss: 2.1674 - val_acc: 0.5132\n",
      "Epoch 65/100\n",
      "50000/50000 [==============================] - 8s 168us/step - loss: 0.4883 - acc: 0.8257 - val_loss: 2.1674 - val_acc: 0.5053\n",
      "Epoch 66/100\n",
      "50000/50000 [==============================] - 8s 167us/step - loss: 0.4679 - acc: 0.8323 - val_loss: 2.2558 - val_acc: 0.5060\n",
      "Epoch 67/100\n",
      "50000/50000 [==============================] - 8s 168us/step - loss: 0.4633 - acc: 0.8348 - val_loss: 2.2124 - val_acc: 0.5103\n",
      "Epoch 68/100\n",
      "50000/50000 [==============================] - 8s 166us/step - loss: 0.4605 - acc: 0.8360 - val_loss: 2.2719 - val_acc: 0.5113\n",
      "Epoch 69/100\n",
      "50000/50000 [==============================] - 8s 168us/step - loss: 0.4433 - acc: 0.8414 - val_loss: 2.3624 - val_acc: 0.5055\n",
      "Epoch 70/100\n",
      "50000/50000 [==============================] - 8s 167us/step - loss: 0.4430 - acc: 0.8409 - val_loss: 2.3353 - val_acc: 0.5109\n",
      "Epoch 71/100\n",
      "50000/50000 [==============================] - 8s 167us/step - loss: 0.4384 - acc: 0.8436 - val_loss: 2.3475 - val_acc: 0.5121\n",
      "Epoch 72/100\n",
      "50000/50000 [==============================] - 8s 167us/step - loss: 0.4369 - acc: 0.8427 - val_loss: 2.4729 - val_acc: 0.4937\n",
      "Epoch 73/100\n",
      "50000/50000 [==============================] - 8s 168us/step - loss: 0.4264 - acc: 0.8468 - val_loss: 2.3916 - val_acc: 0.5059\n",
      "Epoch 74/100\n",
      "50000/50000 [==============================] - 8s 167us/step - loss: 0.4095 - acc: 0.8542 - val_loss: 2.4670 - val_acc: 0.5064\n",
      "Epoch 75/100\n",
      "50000/50000 [==============================] - 8s 167us/step - loss: 0.4159 - acc: 0.8512 - val_loss: 2.4530 - val_acc: 0.5063\n",
      "Epoch 76/100\n",
      "50000/50000 [==============================] - 8s 167us/step - loss: 0.4143 - acc: 0.8509 - val_loss: 2.4997 - val_acc: 0.5092\n",
      "Epoch 77/100\n",
      "50000/50000 [==============================] - 8s 168us/step - loss: 0.3995 - acc: 0.8580 - val_loss: 2.5516 - val_acc: 0.5026\n",
      "Epoch 78/100\n",
      "50000/50000 [==============================] - 8s 167us/step - loss: 0.4035 - acc: 0.8547 - val_loss: 2.5210 - val_acc: 0.5059\n",
      "Epoch 79/100\n",
      "50000/50000 [==============================] - 8s 169us/step - loss: 0.3845 - acc: 0.8631 - val_loss: 2.5510 - val_acc: 0.5016\n",
      "Epoch 80/100\n",
      "50000/50000 [==============================] - 8s 167us/step - loss: 0.3796 - acc: 0.8631 - val_loss: 2.6463 - val_acc: 0.5039\n",
      "Epoch 81/100\n",
      "50000/50000 [==============================] - 8s 169us/step - loss: 0.3798 - acc: 0.8628 - val_loss: 2.5846 - val_acc: 0.5060\n",
      "Epoch 82/100\n",
      "50000/50000 [==============================] - 8s 167us/step - loss: 0.3654 - acc: 0.8694 - val_loss: 2.6950 - val_acc: 0.5053\n",
      "Epoch 83/100\n",
      "50000/50000 [==============================] - 8s 167us/step - loss: 0.3560 - acc: 0.8734 - val_loss: 2.7877 - val_acc: 0.5019\n",
      "Epoch 84/100\n",
      "50000/50000 [==============================] - 8s 168us/step - loss: 0.3697 - acc: 0.8678 - val_loss: 2.7525 - val_acc: 0.4927\n",
      "Epoch 85/100\n",
      "50000/50000 [==============================] - 8s 168us/step - loss: 0.3439 - acc: 0.8781 - val_loss: 2.8009 - val_acc: 0.5001\n",
      "Epoch 86/100\n",
      "50000/50000 [==============================] - 8s 168us/step - loss: 0.3515 - acc: 0.8723 - val_loss: 2.7619 - val_acc: 0.4939\n",
      "Epoch 87/100\n",
      "50000/50000 [==============================] - 8s 167us/step - loss: 0.3626 - acc: 0.8686 - val_loss: 2.7282 - val_acc: 0.5029\n",
      "Epoch 88/100\n",
      "50000/50000 [==============================] - 8s 168us/step - loss: 0.3097 - acc: 0.8896 - val_loss: 2.8301 - val_acc: 0.5057\n",
      "Epoch 89/100\n",
      "50000/50000 [==============================] - 8s 168us/step - loss: 0.3334 - acc: 0.8796 - val_loss: 2.8403 - val_acc: 0.5081\n",
      "Epoch 90/100\n",
      "50000/50000 [==============================] - 8s 166us/step - loss: 0.3311 - acc: 0.8817 - val_loss: 2.8350 - val_acc: 0.4938\n",
      "Epoch 91/100\n",
      "50000/50000 [==============================] - 8s 168us/step - loss: 0.3189 - acc: 0.8859 - val_loss: 2.9119 - val_acc: 0.4971\n",
      "Epoch 92/100\n",
      "50000/50000 [==============================] - 8s 168us/step - loss: 0.3176 - acc: 0.8865 - val_loss: 2.9387 - val_acc: 0.5021\n",
      "Epoch 93/100\n",
      "50000/50000 [==============================] - 8s 168us/step - loss: 0.3236 - acc: 0.8839 - val_loss: 2.8952 - val_acc: 0.5018\n",
      "Epoch 94/100\n",
      "50000/50000 [==============================] - 8s 168us/step - loss: 0.3332 - acc: 0.8808 - val_loss: 3.0060 - val_acc: 0.4929\n",
      "Epoch 95/100\n",
      "50000/50000 [==============================] - 8s 167us/step - loss: 0.3022 - acc: 0.8912 - val_loss: 3.0219 - val_acc: 0.5009\n",
      "Epoch 96/100\n",
      "50000/50000 [==============================] - 8s 168us/step - loss: 0.3116 - acc: 0.8894 - val_loss: 3.0166 - val_acc: 0.4961\n",
      "Epoch 97/100\n",
      "50000/50000 [==============================] - 8s 169us/step - loss: 0.3099 - acc: 0.8887 - val_loss: 3.0167 - val_acc: 0.4995\n",
      "Epoch 98/100\n",
      "50000/50000 [==============================] - 8s 167us/step - loss: 0.3101 - acc: 0.8895 - val_loss: 3.0447 - val_acc: 0.4936\n",
      "Epoch 99/100\n",
      "50000/50000 [==============================] - 8s 169us/step - loss: 0.2809 - acc: 0.8984 - val_loss: 3.0790 - val_acc: 0.4983\n",
      "Epoch 100/100\n",
      "50000/50000 [==============================] - 8s 167us/step - loss: 0.2956 - acc: 0.8941 - val_loss: 3.0910 - val_acc: 0.4941\n"
     ]
    },
    {
     "data": {
      "text/plain": [
       "<keras.callbacks.History at 0x22a00edc3c8>"
      ]
     },
     "execution_count": 54,
     "metadata": {},
     "output_type": "execute_result"
    }
   ],
   "source": [
    "model.fit(x_train, y_train, \n",
    "          epochs=EPOCHS, \n",
    "          batch_size=BATCH_SIZE, \n",
    "          validation_data=(x_test, y_test), \n",
    "          shuffle=True)"
   ]
  },
  {
   "cell_type": "code",
   "execution_count": 55,
   "metadata": {},
   "outputs": [
    {
     "data": {
      "image/png": "[encoded data removed]",
      "text/plain": [
       "<Figure size 432x288 with 1 Axes>"
      ]
     },
     "metadata": {
      "needs_background": "light"
     },
     "output_type": "display_data"
    },
    {
     "data": {
      "image/png": "[encoded data removed]",
      "text/plain": [
       "<Figure size 432x288 with 1 Axes>"
      ]
     },
     "metadata": {
      "needs_background": "light"
     },
     "output_type": "display_data"
    }
   ],
   "source": [
    "import matplotlib.pyplot as plt\n",
    "\n",
    "\n",
    "train_loss = model.history.history[\"loss\"]\n",
    "valid_loss = model.history.history[\"val_loss\"]\n",
    "\n",
    "train_acc = model.history.history[\"acc\"]\n",
    "valid_acc = model.history.history[\"val_acc\"]\n",
    "\n",
    "plt.plot(range(len(train_loss)), train_loss, label=\"train loss\")\n",
    "plt.plot(range(len(valid_loss)), valid_loss, label=\"valid loss\")\n",
    "plt.legend()\n",
    "plt.title(\"Loss\")\n",
    "plt.show()\n",
    "\n",
    "plt.plot(range(len(train_acc)), train_acc, label=\"train accuracy\")\n",
    "plt.plot(range(len(valid_acc)), valid_acc, label=\"valid accuracy\")\n",
    "plt.legend()\n",
    "plt.title(\"Accuracy\")\n",
    "plt.show()"
   ]
  },
  {
   "cell_type": "code",
   "execution_count": null,
   "metadata": {},
   "outputs": [],
   "source": []
  },
  {
   "cell_type": "code",
   "execution_count": null,
   "metadata": {},
   "outputs": [],
   "source": []
  }
 ],
 "metadata": {
  "kernelspec": {
   "display_name": "Python 3",
   "language": "python",
   "name": "python3"
  },
  "language_info": {
   "codemirror_mode": {
    "name": "ipython",
    "version": 3
   },
   "file_extension": ".py",
   "mimetype": "text/x-python",
   "name": "python",
   "nbconvert_exporter": "python",
   "pygments_lexer": "ipython3",
   "version": "3.7.3"
  }
 },
 "nbformat": 4,
 "nbformat_minor": 2
}

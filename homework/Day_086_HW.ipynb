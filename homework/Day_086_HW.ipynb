{
 "cells": [
  {
   "cell_type": "markdown",
   "metadata": {},
   "source": [
    "## Work\n",
    "1. 試比較 save_best_only 與否的差異\n",
    "2. 請僅存入將 save_weights_only 設定為 True, 並嘗試 reset ipynb 並將模型與權重重新建回並預測 x_test"
   ]
  },
  {
   "cell_type": "code",
   "execution_count": 1,
   "metadata": {},
   "outputs": [
    {
     "name": "stderr",
     "output_type": "stream",
     "text": [
      "Using TensorFlow backend.\n"
     ]
    }
   ],
   "source": [
    "import os\n",
    "import keras\n",
    "\n",
    "# Disable GPU\n",
    "os.environ[\"CUDA_VISIBLE_DEVICES\"] = \"\""
   ]
  },
  {
   "cell_type": "code",
   "execution_count": 2,
   "metadata": {},
   "outputs": [],
   "source": [
    "train, test = keras.datasets.cifar10.load_data()"
   ]
  },
  {
   "cell_type": "code",
   "execution_count": 3,
   "metadata": {},
   "outputs": [],
   "source": [
    "## 資料前處理\n",
    "def preproc_x(x, flatten=True):\n",
    "    x = x / 255.\n",
    "    if flatten:\n",
    "        x = x.reshape((len(x), -1))\n",
    "    return x\n",
    "\n",
    "def preproc_y(y, num_classes=10):\n",
    "    if y.shape[-1] == 1:\n",
    "        y = keras.utils.to_categorical(y, num_classes)\n",
    "    return y    "
   ]
  },
  {
   "cell_type": "code",
   "execution_count": 4,
   "metadata": {},
   "outputs": [],
   "source": [
    "x_train, y_train = train\n",
    "x_test, y_test = test\n",
    "\n",
    "# Preproc the inputs\n",
    "x_train = preproc_x(x_train)\n",
    "x_test = preproc_x(x_test)\n",
    "\n",
    "# Preprc the outputs\n",
    "y_train = preproc_y(y_train)\n",
    "y_test = preproc_y(y_test)"
   ]
  },
  {
   "cell_type": "code",
   "execution_count": 5,
   "metadata": {},
   "outputs": [],
   "source": [
    "from keras.layers import BatchNormalization\n",
    "\n",
    "def build_mlp(input_shape, output_units=10, num_neurons=[512, 256, 128]):\n",
    "    input_layer = keras.layers.Input(input_shape)\n",
    "    \"\"\"Code Here\n",
    "    建立你的神經網路\n",
    "    \"\"\"    \n",
    "    for i, n_units in enumerate(num_neurons):\n",
    "        if i == 0:\n",
    "            x = keras.layers.Dense(units=n_units, \n",
    "                                   activation=\"relu\", \n",
    "                                   name=\"hidden_layer\"+str(i+1))(input_layer)\n",
    "            x = BatchNormalization()(x)\n",
    "        else:\n",
    "            x = keras.layers.Dense(units=n_units, \n",
    "                                   activation=\"relu\", \n",
    "                                   name=\"hidden_layer\"+str(i+1))(x)\n",
    "            x = BatchNormalization()(x)\n",
    "    \n",
    "    out = keras.layers.Dense(units=output_units, activation=\"softmax\", name=\"output\")(x)\n",
    "    \n",
    "    model = keras.models.Model(inputs=[input_layer], outputs=[out])\n",
    "    return model"
   ]
  },
  {
   "cell_type": "code",
   "execution_count": 6,
   "metadata": {},
   "outputs": [],
   "source": [
    "\"\"\"Code Here\n",
    "設定超參數\n",
    "\"\"\"\n",
    "\n",
    "LEARNING_RATE = 1e-3\n",
    "EPOCHS = 50\n",
    "BATCH_SIZE = 1024\n",
    "MOMENTUM = 0.95"
   ]
  },
  {
   "cell_type": "code",
   "execution_count": 7,
   "metadata": {},
   "outputs": [
    {
     "name": "stderr",
     "output_type": "stream",
     "text": [
      "WARNING: Logging before flag parsing goes to stderr.\n",
      "W0723 07:41:09.607934 12896 deprecation_wrapper.py:119] From C:\\Users\\KCB-SA\\Anaconda3\\lib\\site-packages\\keras\\backend\\tensorflow_backend.py:71: The name tf.get_default_graph is deprecated. Please use tf.compat.v1.get_default_graph instead.\n",
      "\n",
      "W0723 07:41:10.136732 12896 deprecation_wrapper.py:119] From C:\\Users\\KCB-SA\\Anaconda3\\lib\\site-packages\\keras\\backend\\tensorflow_backend.py:514: The name tf.placeholder is deprecated. Please use tf.compat.v1.placeholder instead.\n",
      "\n",
      "W0723 07:41:10.177949 12896 deprecation_wrapper.py:119] From C:\\Users\\KCB-SA\\Anaconda3\\lib\\site-packages\\keras\\backend\\tensorflow_backend.py:4076: The name tf.random_uniform is deprecated. Please use tf.random.uniform instead.\n",
      "\n",
      "W0723 07:41:10.315788 12896 deprecation_wrapper.py:119] From C:\\Users\\KCB-SA\\Anaconda3\\lib\\site-packages\\keras\\backend\\tensorflow_backend.py:130: The name tf.placeholder_with_default is deprecated. Please use tf.compat.v1.placeholder_with_default instead.\n",
      "\n",
      "W0723 07:41:10.874457 12896 deprecation_wrapper.py:119] From C:\\Users\\KCB-SA\\Anaconda3\\lib\\site-packages\\keras\\optimizers.py:757: The name tf.train.Optimizer is deprecated. Please use tf.compat.v1.train.Optimizer instead.\n",
      "\n",
      "W0723 07:41:10.880414 12896 deprecation_wrapper.py:119] From C:\\Users\\KCB-SA\\Anaconda3\\lib\\site-packages\\keras\\backend\\tensorflow_backend.py:3213: The name tf.log is deprecated. Please use tf.math.log instead.\n",
      "\n",
      "W0723 07:41:10.950292 12896 deprecation.py:323] From C:\\Users\\KCB-SA\\Anaconda3\\lib\\site-packages\\tensorflow\\python\\ops\\math_grad.py:1250: add_dispatch_support.<locals>.wrapper (from tensorflow.python.ops.array_ops) is deprecated and will be removed in a future version.\n",
      "Instructions for updating:\n",
      "Use tf.where in 2.0, which has the same broadcast rule as np.where\n"
     ]
    },
    {
     "name": "stdout",
     "output_type": "stream",
     "text": [
      "_________________________________________________________________\n",
      "Layer (type)                 Output Shape              Param #   \n",
      "=================================================================\n",
      "input_1 (InputLayer)         (None, 3072)              0         \n",
      "_________________________________________________________________\n",
      "hidden_layer1 (Dense)        (None, 512)               1573376   \n",
      "_________________________________________________________________\n",
      "batch_normalization_1 (Batch (None, 512)               2048      \n",
      "_________________________________________________________________\n",
      "hidden_layer2 (Dense)        (None, 256)               131328    \n",
      "_________________________________________________________________\n",
      "batch_normalization_2 (Batch (None, 256)               1024      \n",
      "_________________________________________________________________\n",
      "hidden_layer3 (Dense)        (None, 128)               32896     \n",
      "_________________________________________________________________\n",
      "batch_normalization_3 (Batch (None, 128)               512       \n",
      "_________________________________________________________________\n",
      "output (Dense)               (None, 10)                1290      \n",
      "=================================================================\n",
      "Total params: 1,742,474\n",
      "Trainable params: 1,740,682\n",
      "Non-trainable params: 1,792\n",
      "_________________________________________________________________\n",
      "Train on 50000 samples, validate on 10000 samples\n",
      "Epoch 1/50\n",
      "50000/50000 [==============================] - 5s 108us/step - loss: 2.2213 - acc: 0.2682 - val_loss: 2.0024 - val_acc: 0.3387\n",
      "Epoch 2/50\n",
      "50000/50000 [==============================] - 5s 91us/step - loss: 1.7366 - acc: 0.3936 - val_loss: 1.7701 - val_acc: 0.3836\n",
      "Epoch 3/50\n",
      "50000/50000 [==============================] - 4s 88us/step - loss: 1.6151 - acc: 0.4343 - val_loss: 1.6907 - val_acc: 0.4067\n",
      "Epoch 4/50\n",
      "50000/50000 [==============================] - 5s 90us/step - loss: 1.5434 - acc: 0.4601 - val_loss: 1.6165 - val_acc: 0.4316\n",
      "Epoch 5/50\n",
      "50000/50000 [==============================] - 5s 95us/step - loss: 1.4882 - acc: 0.4800 - val_loss: 1.5841 - val_acc: 0.4442\n",
      "Epoch 6/50\n",
      "50000/50000 [==============================] - 5s 91us/step - loss: 1.4438 - acc: 0.4953 - val_loss: 1.5630 - val_acc: 0.4466\n",
      "Epoch 7/50\n",
      "50000/50000 [==============================] - 5s 91us/step - loss: 1.4045 - acc: 0.5096 - val_loss: 1.5483 - val_acc: 0.4509\n",
      "Epoch 8/50\n",
      "50000/50000 [==============================] - 5s 93us/step - loss: 1.3701 - acc: 0.5215 - val_loss: 1.5206 - val_acc: 0.4599\n",
      "Epoch 9/50\n",
      "50000/50000 [==============================] - 5s 91us/step - loss: 1.3391 - acc: 0.5334 - val_loss: 1.5008 - val_acc: 0.4667\n",
      "Epoch 10/50\n",
      "50000/50000 [==============================] - 5s 91us/step - loss: 1.3082 - acc: 0.5455 - val_loss: 1.4975 - val_acc: 0.4729\n",
      "Epoch 11/50\n",
      "50000/50000 [==============================] - 5s 98us/step - loss: 1.2810 - acc: 0.5545 - val_loss: 1.4783 - val_acc: 0.4783\n",
      "Epoch 12/50\n",
      "50000/50000 [==============================] - 5s 93us/step - loss: 1.2559 - acc: 0.5636 - val_loss: 1.4800 - val_acc: 0.4772\n",
      "Epoch 13/50\n",
      "50000/50000 [==============================] - 5s 92us/step - loss: 1.2304 - acc: 0.5736 - val_loss: 1.4729 - val_acc: 0.4835\n",
      "Epoch 14/50\n",
      "50000/50000 [==============================] - 5s 97us/step - loss: 1.2051 - acc: 0.5833 - val_loss: 1.4626 - val_acc: 0.4848\n",
      "Epoch 15/50\n",
      "50000/50000 [==============================] - 5s 95us/step - loss: 1.1818 - acc: 0.5919 - val_loss: 1.4633 - val_acc: 0.4863\n",
      "Epoch 16/50\n",
      "50000/50000 [==============================] - 5s 100us/step - loss: 1.1587 - acc: 0.6022 - val_loss: 1.4676 - val_acc: 0.4833\n",
      "Epoch 17/50\n",
      "50000/50000 [==============================] - 5s 98us/step - loss: 1.1372 - acc: 0.6086 - val_loss: 1.4561 - val_acc: 0.4906\n",
      "Epoch 18/50\n",
      "50000/50000 [==============================] - 5s 110us/step - loss: 1.1170 - acc: 0.6165 - val_loss: 1.4573 - val_acc: 0.4872\n",
      "Epoch 19/50\n",
      "50000/50000 [==============================] - 5s 104us/step - loss: 1.0937 - acc: 0.6260 - val_loss: 1.4577 - val_acc: 0.4909\n",
      "Epoch 20/50\n",
      "50000/50000 [==============================] - 5s 101us/step - loss: 1.0736 - acc: 0.6345 - val_loss: 1.4453 - val_acc: 0.4905\n",
      "Epoch 21/50\n",
      "50000/50000 [==============================] - 5s 104us/step - loss: 1.0514 - acc: 0.6415 - val_loss: 1.4541 - val_acc: 0.4913\n",
      "Epoch 22/50\n",
      "50000/50000 [==============================] - 6s 123us/step - loss: 1.0305 - acc: 0.6502 - val_loss: 1.4301 - val_acc: 0.4996\n",
      "Epoch 23/50\n",
      "50000/50000 [==============================] - 5s 100us/step - loss: 1.0101 - acc: 0.6577 - val_loss: 1.4451 - val_acc: 0.4948\n",
      "Epoch 24/50\n",
      "50000/50000 [==============================] - 6s 117us/step - loss: 0.9884 - acc: 0.6658 - val_loss: 1.4468 - val_acc: 0.4970\n",
      "Epoch 25/50\n",
      "50000/50000 [==============================] - 6s 127us/step - loss: 0.9696 - acc: 0.6733 - val_loss: 1.4494 - val_acc: 0.4964\n",
      "Epoch 26/50\n",
      "50000/50000 [==============================] - 6s 118us/step - loss: 0.9487 - acc: 0.6838 - val_loss: 1.4500 - val_acc: 0.5007\n",
      "Epoch 27/50\n",
      "50000/50000 [==============================] - 8s 157us/step - loss: 0.9309 - acc: 0.6886 - val_loss: 1.4395 - val_acc: 0.5037\n",
      "Epoch 28/50\n",
      "50000/50000 [==============================] - 7s 132us/step - loss: 0.9105 - acc: 0.6972 - val_loss: 1.4608 - val_acc: 0.4999\n",
      "Epoch 29/50\n",
      "50000/50000 [==============================] - 7s 141us/step - loss: 0.8900 - acc: 0.7064 - val_loss: 1.4472 - val_acc: 0.5038\n",
      "Epoch 30/50\n",
      "50000/50000 [==============================] - 6s 116us/step - loss: 0.8706 - acc: 0.7134 - val_loss: 1.4630 - val_acc: 0.5044\n",
      "Epoch 31/50\n",
      "50000/50000 [==============================] - 5s 97us/step - loss: 0.8503 - acc: 0.7200 - val_loss: 1.4726 - val_acc: 0.4957\n",
      "Epoch 32/50\n",
      "50000/50000 [==============================] - 5s 105us/step - loss: 0.8331 - acc: 0.7268 - val_loss: 1.4717 - val_acc: 0.4983\n",
      "Epoch 33/50\n",
      "50000/50000 [==============================] - 6s 117us/step - loss: 0.8124 - acc: 0.7370 - val_loss: 1.4750 - val_acc: 0.5018\n",
      "Epoch 34/50\n",
      "50000/50000 [==============================] - 6s 112us/step - loss: 0.7932 - acc: 0.7442 - val_loss: 1.4963 - val_acc: 0.5000\n",
      "Epoch 35/50\n",
      "50000/50000 [==============================] - 6s 115us/step - loss: 0.7754 - acc: 0.7505 - val_loss: 1.4948 - val_acc: 0.5016\n",
      "Epoch 36/50\n",
      "50000/50000 [==============================] - 6s 112us/step - loss: 0.7543 - acc: 0.7587 - val_loss: 1.5083 - val_acc: 0.4993\n",
      "Epoch 37/50\n",
      "50000/50000 [==============================] - 7s 142us/step - loss: 0.7385 - acc: 0.7646 - val_loss: 1.5013 - val_acc: 0.5002\n",
      "Epoch 38/50\n",
      "50000/50000 [==============================] - 6s 114us/step - loss: 0.7180 - acc: 0.7741 - val_loss: 1.5065 - val_acc: 0.4980\n",
      "Epoch 39/50\n",
      "50000/50000 [==============================] - 6s 112us/step - loss: 0.7000 - acc: 0.7803 - val_loss: 1.5114 - val_acc: 0.5039\n",
      "Epoch 40/50\n",
      "50000/50000 [==============================] - 6s 128us/step - loss: 0.6822 - acc: 0.7871 - val_loss: 1.5251 - val_acc: 0.5030\n",
      "Epoch 41/50\n",
      "50000/50000 [==============================] - 7s 146us/step - loss: 0.6647 - acc: 0.7942 - val_loss: 1.5308 - val_acc: 0.4959\n",
      "Epoch 42/50\n",
      "50000/50000 [==============================] - 6s 116us/step - loss: 0.6464 - acc: 0.8016 - val_loss: 1.5401 - val_acc: 0.4977\n",
      "Epoch 43/50\n",
      "50000/50000 [==============================] - 6s 113us/step - loss: 0.6272 - acc: 0.8097 - val_loss: 1.5580 - val_acc: 0.4944\n",
      "Epoch 44/50\n",
      "50000/50000 [==============================] - 7s 130us/step - loss: 0.6108 - acc: 0.8161 - val_loss: 1.5815 - val_acc: 0.4980\n",
      "Epoch 45/50\n",
      "50000/50000 [==============================] - 6s 113us/step - loss: 0.5926 - acc: 0.8226 - val_loss: 1.5876 - val_acc: 0.4977\n",
      "Epoch 46/50\n",
      "50000/50000 [==============================] - 5s 109us/step - loss: 0.5747 - acc: 0.8308 - val_loss: 1.5967 - val_acc: 0.4970\n",
      "Epoch 47/50\n",
      "50000/50000 [==============================] - 5s 109us/step - loss: 0.5591 - acc: 0.8355 - val_loss: 1.6048 - val_acc: 0.4877\n",
      "Epoch 48/50\n",
      "50000/50000 [==============================] - 5s 109us/step - loss: 0.5420 - acc: 0.8436 - val_loss: 1.6173 - val_acc: 0.4954\n",
      "Epoch 49/50\n",
      "50000/50000 [==============================] - 6s 112us/step - loss: 0.5264 - acc: 0.8488 - val_loss: 1.6163 - val_acc: 0.4985\n"
     ]
    },
    {
     "name": "stdout",
     "output_type": "stream",
     "text": [
      "Epoch 50/50\n",
      "50000/50000 [==============================] - 6s 123us/step - loss: 0.5091 - acc: 0.8556 - val_loss: 1.6421 - val_acc: 0.4923\n",
      "10000/10000 [==============================] - 1s 98us/step\n"
     ]
    }
   ],
   "source": [
    "# 載入 Callbacks\n",
    "\"\"\"Code Here\n",
    "設定 callbacks: model checkpoint\n",
    "\"\"\"\n",
    "from keras.callbacks import ModelCheckpoint\n",
    "\n",
    "model_ckpt = ModelCheckpoint(filepath=\"./tmp.h5\", \n",
    "                             monitor=\"val_loss\", \n",
    "                             save_best_only=True)\n",
    "results = {}\n",
    "\"\"\"Code Here\n",
    "撰寫你的訓練流程並將結果用 dictionary 紀錄\n",
    "\"\"\"\n",
    "model = build_mlp(input_shape=x_train.shape[1:])\n",
    "model.summary()\n",
    "optimizer = keras.optimizers.SGD(lr=LEARNING_RATE, nesterov=True, momentum=MOMENTUM)\n",
    "model.compile(loss=\"categorical_crossentropy\", metrics=[\"accuracy\"], optimizer=optimizer)\n",
    "\n",
    "model_ckpt = ModelCheckpoint(filepath=\"./tmp.h5\", \n",
    "                             monitor=\"val_loss\", \n",
    "                             save_best_only=True)\n",
    "model.fit(x_train, y_train, \n",
    "          epochs=EPOCHS, \n",
    "          batch_size=BATCH_SIZE, \n",
    "          validation_data=(x_test, y_test), \n",
    "          shuffle=True,\n",
    "          callbacks=[model_ckpt]\n",
    "         )\n",
    "\n",
    "# Collect results\n",
    "train_loss = model.history.history[\"loss\"]\n",
    "valid_loss = model.history.history[\"val_loss\"]\n",
    "train_acc = model.history.history[\"acc\"]\n",
    "valid_acc = model.history.history[\"val_acc\"]\n",
    "\n",
    "exp_name_tag = \"save_best_only=True\"\n",
    "results[exp_name_tag] = {'train-loss': train_loss,\n",
    "                         'valid-loss': valid_loss,\n",
    "                         'train-acc': train_acc,\n",
    "                         'valid-acc': valid_acc}\n",
    "\n",
    "# Load back\n",
    "model = keras.models.load_model(\"./tmp.h5\")\n",
    "loss_loadback, acc_loadback = model.evaluate(x_test, y_test)"
   ]
  },
  {
   "cell_type": "code",
   "execution_count": 8,
   "metadata": {
    "scrolled": true
   },
   "outputs": [
    {
     "data": {
      "image/png": "[encoded data removed]",
      "text/plain": [
       "<Figure size 432x288 with 1 Axes>"
      ]
     },
     "metadata": {
      "needs_background": "light"
     },
     "output_type": "display_data"
    },
    {
     "data": {
      "image/png": "[encoded data removed]",
      "text/plain": [
       "<Figure size 432x288 with 1 Axes>"
      ]
     },
     "metadata": {
      "needs_background": "light"
     },
     "output_type": "display_data"
    }
   ],
   "source": [
    "import matplotlib.pyplot as plt\n",
    "%matplotlib inline\n",
    "\"\"\"Code Here\n",
    "將結果繪出\n",
    "\"\"\"\n",
    "plt.plot(range(len(train_loss)), train_loss, label=\"train loss\")\n",
    "plt.plot(range(len(valid_loss)), valid_loss, label=\"valid loss\")\n",
    "plt.hlines(y=loss_loadback, xmin=0, xmax=len(train_loss), colors='r', linestyles='--')\n",
    "plt.legend()\n",
    "plt.title(\"Loss\")\n",
    "plt.show()\n",
    "\n",
    "plt.plot(range(len(train_acc)), train_acc, label=\"train accuracy\")\n",
    "plt.plot(range(len(valid_acc)), valid_acc, label=\"valid accuracy\")\n",
    "plt.hlines(y=acc_loadback, xmin=0, xmax=len(train_loss), colors='r', linestyles='--')\n",
    "plt.legend()\n",
    "plt.title(\"Accuracy\")\n",
    "plt.show()"
   ]
  },
  {
   "cell_type": "code",
   "execution_count": null,
   "metadata": {},
   "outputs": [],
   "source": []
  }
 ],
 "metadata": {
  "kernelspec": {
   "display_name": "Python 3",
   "language": "python",
   "name": "python3"
  },
  "language_info": {
   "codemirror_mode": {
    "name": "ipython",
    "version": 3
   },
   "file_extension": ".py",
   "mimetype": "text/x-python",
   "name": "python",
   "nbconvert_exporter": "python",
   "pygments_lexer": "ipython3",
   "version": "3.7.3"
  }
 },
 "nbformat": 4,
 "nbformat_minor": 2
}

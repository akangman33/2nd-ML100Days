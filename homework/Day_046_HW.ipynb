{
 "cells": [
  {
   "cell_type": "markdown",
   "metadata": {},
   "source": [
    "### 作業\n",
    "目前已經學過許多的模型，相信大家對整體流程應該比較掌握了，這次作業請改用**手寫辨識資料集**，步驟流程都是一樣的，請試著自己撰寫程式碼來完成所有步驟"
   ]
  },
  {
   "cell_type": "code",
   "execution_count": 9,
   "metadata": {},
   "outputs": [],
   "source": [
    "from sklearn import datasets, metrics\n",
    "digits = datasets.load_digits()\n",
    "\n",
    "from sklearn.ensemble import GradientBoostingClassifier\n",
    "from sklearn.model_selection import train_test_split"
   ]
  },
  {
   "cell_type": "code",
   "execution_count": 10,
   "metadata": {},
   "outputs": [],
   "source": [
    "# 切分訓練集/測試集\n",
    "x_train, x_test, y_train, y_test = train_test_split(digits.data, digits.target, test_size=0.25, random_state=4)\n",
    "\n",
    "# 建立模型\n",
    "clf = GradientBoostingClassifier()\n",
    "\n",
    "# 訓練模型\n",
    "clf.fit(x_train, y_train)\n",
    "\n",
    "# 預測測試集\n",
    "y_pred = clf.predict(x_test)"
   ]
  },
  {
   "cell_type": "code",
   "execution_count": 11,
   "metadata": {},
   "outputs": [
    {
     "name": "stdout",
     "output_type": "stream",
     "text": [
      "Acuuracy:  0.9666666666666667\n"
     ]
    }
   ],
   "source": [
    "acc = metrics.accuracy_score(y_test, y_pred)\n",
    "print(\"Acuuracy: \", acc)"
   ]
  },
  {
   "cell_type": "code",
   "execution_count": null,
   "metadata": {},
   "outputs": [],
   "source": []
  },
  {
   "cell_type": "code",
   "execution_count": 13,
   "metadata": {},
   "outputs": [
    {
     "name": "stdout",
     "output_type": "stream",
     "text": [
      "Feature importance:  [0.00000000e+00 7.57642174e-04 7.74935373e-03 6.99034898e-03\n",
      " 2.00210421e-03 5.28925213e-02 1.01148881e-02 4.48700888e-05\n",
      " 0.00000000e+00 1.69129916e-03 1.10910566e-02 3.75632901e-04\n",
      " 6.31723947e-03 1.38617798e-02 1.93388251e-03 8.58242799e-04\n",
      " 4.64869534e-04 2.84792868e-03 1.11564346e-02 3.39557618e-02\n",
      " 2.47828092e-02 9.03913033e-02 6.25532342e-03 3.16766872e-08\n",
      " 1.19928206e-04 2.00691777e-03 4.79689024e-02 1.97973653e-02\n",
      " 3.63311250e-02 2.32174027e-02 9.30025251e-03 4.84384876e-04\n",
      " 0.00000000e+00 6.13204939e-02 4.02852176e-03 9.71563541e-04\n",
      " 7.04129417e-02 1.25562205e-02 2.17023325e-02 0.00000000e+00\n",
      " 0.00000000e+00 9.38194447e-03 8.80432713e-02 6.38762584e-02\n",
      " 1.23401938e-02 1.79151304e-02 1.53598175e-02 1.60401564e-04\n",
      " 0.00000000e+00 9.76555148e-04 7.43268282e-03 2.11888940e-02\n",
      " 1.07805269e-02 1.55215865e-02 2.21397692e-02 1.34089112e-04\n",
      " 0.00000000e+00 3.74582315e-04 3.02467736e-02 1.95572001e-03\n",
      " 4.99094399e-02 7.69120703e-03 1.87951147e-02 9.02236453e-03]\n"
     ]
    }
   ],
   "source": [
    "print(\"Feature importance: \", clf.feature_importances_)"
   ]
  },
  {
   "cell_type": "code",
   "execution_count": null,
   "metadata": {},
   "outputs": [],
   "source": []
  }
 ],
 "metadata": {
  "kernelspec": {
   "display_name": "Python 3",
   "language": "python",
   "name": "python3"
  },
  "language_info": {
   "codemirror_mode": {
    "name": "ipython",
    "version": 3
   },
   "file_extension": ".py",
   "mimetype": "text/x-python",
   "name": "python",
   "nbconvert_exporter": "python",
   "pygments_lexer": "ipython3",
   "version": "3.7.3"
  }
 },
 "nbformat": 4,
 "nbformat_minor": 2
}

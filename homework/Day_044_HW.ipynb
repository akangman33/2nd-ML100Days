{
 "cells": [
  {
   "cell_type": "markdown",
   "metadata": {},
   "source": [
    "## [作業重點]\n",
    "確保你了解隨機森林模型中每個超參數的意義，並觀察調整超參數對結果的影響"
   ]
  },
  {
   "cell_type": "markdown",
   "metadata": {},
   "source": [
    "## 作業\n",
    "\n",
    "1. 試著調整 RandomForestClassifier(...) 中的參數，並觀察是否會改變結果？\n",
    "2. 改用其他資料集 (boston, wine)，並與回歸模型與決策樹的結果進行比較"
   ]
  },
  {
   "cell_type": "code",
   "execution_count": 35,
   "metadata": {},
   "outputs": [],
   "source": [
    "from sklearn import datasets, metrics\n",
    "from sklearn.ensemble import RandomForestClassifier\n",
    "from sklearn.model_selection import train_test_split"
   ]
  },
  {
   "cell_type": "code",
   "execution_count": 36,
   "metadata": {},
   "outputs": [],
   "source": [
    "bc = datasets.load_breast_cancer()\n",
    "\n",
    "# 切分訓練集/測試集\n",
    "x_train, x_test, y_train, y_test = train_test_split(bc.data, bc.target, test_size=0.5, random_state=4)\n",
    "\n",
    "# 建立模型 (使用 20 顆樹，每棵樹的最大深度為 4)\n",
    "clf = RandomForestClassifier(n_estimators=30, max_features=\"auto\", max_depth=20, min_samples_leaf=1)\n",
    "\n",
    "# 訓練模型\n",
    "clf.fit(x_train, y_train)\n",
    "\n",
    "# 預測測試集\n",
    "y_pred = clf.predict(x_test)"
   ]
  },
  {
   "cell_type": "code",
   "execution_count": 37,
   "metadata": {},
   "outputs": [
    {
     "name": "stdout",
     "output_type": "stream",
     "text": [
      "Accuracy:  0.9192982456140351\n"
     ]
    }
   ],
   "source": [
    "acc = metrics.accuracy_score(y_test, y_pred)\n",
    "print(\"Accuracy: \", acc)"
   ]
  },
  {
   "cell_type": "code",
   "execution_count": 38,
   "metadata": {},
   "outputs": [
    {
     "name": "stdout",
     "output_type": "stream",
     "text": [
      "['mean radius' 'mean texture' 'mean perimeter' 'mean area'\n",
      " 'mean smoothness' 'mean compactness' 'mean concavity'\n",
      " 'mean concave points' 'mean symmetry' 'mean fractal dimension'\n",
      " 'radius error' 'texture error' 'perimeter error' 'area error'\n",
      " 'smoothness error' 'compactness error' 'concavity error'\n",
      " 'concave points error' 'symmetry error' 'fractal dimension error'\n",
      " 'worst radius' 'worst texture' 'worst perimeter' 'worst area'\n",
      " 'worst smoothness' 'worst compactness' 'worst concavity'\n",
      " 'worst concave points' 'worst symmetry' 'worst fractal dimension']\n"
     ]
    }
   ],
   "source": [
    "print(bc.feature_names)"
   ]
  },
  {
   "cell_type": "code",
   "execution_count": 34,
   "metadata": {},
   "outputs": [
    {
     "name": "stdout",
     "output_type": "stream",
     "text": [
      "Feature importance:  [0.00000000e+00 1.85763327e-03 2.20833255e-02 1.00891449e-02\n",
      " 8.56823669e-03 1.65818631e-02 7.27752196e-03 6.62811257e-04\n",
      " 0.00000000e+00 1.46898180e-02 3.49148998e-02 9.03192591e-03\n",
      " 1.79826554e-02 4.40099563e-02 5.69631791e-03 3.45293972e-04\n",
      " 0.00000000e+00 8.70098051e-03 2.40673476e-02 2.04622857e-02\n",
      " 2.63318788e-02 4.26972508e-02 6.28953413e-03 1.09021904e-03\n",
      " 0.00000000e+00 1.48856308e-02 3.68369954e-02 2.36483459e-02\n",
      " 2.95124563e-02 2.76762124e-02 2.77705470e-02 0.00000000e+00\n",
      " 0.00000000e+00 2.08445509e-02 3.14184253e-02 2.04318134e-02\n",
      " 3.71820627e-02 1.75594408e-02 2.99735463e-02 0.00000000e+00\n",
      " 0.00000000e+00 1.14011429e-02 4.33721194e-02 3.73760817e-02\n",
      " 2.27331061e-02 1.67223819e-02 1.70610490e-02 7.71361909e-05\n",
      " 1.01830576e-04 1.51331301e-03 1.61635286e-02 2.63200183e-02\n",
      " 1.36986891e-02 2.33106282e-02 2.60243686e-02 1.48052060e-03\n",
      " 0.00000000e+00 2.19063030e-03 1.93574006e-02 8.54574596e-03\n",
      " 2.33461897e-02 3.48094992e-02 1.01345568e-02 3.08913559e-03]\n"
     ]
    }
   ],
   "source": [
    "print(\"Feature importance: \", clf.feature_importances_)"
   ]
  },
  {
   "cell_type": "code",
   "execution_count": null,
   "metadata": {},
   "outputs": [],
   "source": []
  },
  {
   "cell_type": "code",
   "execution_count": null,
   "metadata": {},
   "outputs": [],
   "source": []
  }
 ],
 "metadata": {
  "kernelspec": {
   "display_name": "Python 3",
   "language": "python",
   "name": "python3"
  },
  "language_info": {
   "codemirror_mode": {
    "name": "ipython",
    "version": 3
   },
   "file_extension": ".py",
   "mimetype": "text/x-python",
   "name": "python",
   "nbconvert_exporter": "python",
   "pygments_lexer": "ipython3",
   "version": "3.7.3"
  }
 },
 "nbformat": 4,
 "nbformat_minor": 2
}
